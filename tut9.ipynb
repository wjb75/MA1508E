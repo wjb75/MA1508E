{
 "cells": [
  {
   "cell_type": "code",
   "execution_count": 46,
   "id": "d4e1c220-ccce-4327-8ef6-9ff1e1c29070",
   "metadata": {},
   "outputs": [],
   "source": [
    "from sympy import Matrix, zeros, eye, symbols, GramSchmidt\n",
    "from sympy import pprint as p\n",
    "from numpy import arange"
   ]
  },
  {
   "cell_type": "code",
   "execution_count": 3,
   "id": "bbfc7aaf-a1cf-4c99-8601-391481cc3aaa",
   "metadata": {},
   "outputs": [
    {
     "data": {
      "text/latex": [
       "$\\displaystyle \\left[\\begin{matrix}1 & 1 & 2 & 1 & 0\\\\1 & 1 & 1 & 2 & 0\\\\0 & 1 & 1 & 1 & 1\\end{matrix}\\right]$"
      ],
      "text/plain": [
       "Matrix([\n",
       "[1, 1, 2, 1, 0],\n",
       "[1, 1, 1, 2, 0],\n",
       "[0, 1, 1, 1, 1]])"
      ]
     },
     "execution_count": 3,
     "metadata": {},
     "output_type": "execute_result"
    }
   ],
   "source": [
    "A = Matrix([[1,1,2,1,0],[1,1,1,2,0],[0,1,1,1,1]])\n",
    "A"
   ]
  },
  {
   "cell_type": "code",
   "execution_count": 4,
   "id": "b39a4e00-9d4d-4b58-b986-703ad2b8e948",
   "metadata": {},
   "outputs": [
    {
     "data": {
      "text/latex": [
       "$\\displaystyle \\left[\\begin{matrix}1 & 1 & 2 & 1 & 0 & 0\\\\1 & 1 & 1 & 2 & 0 & 0\\\\0 & 1 & 1 & 1 & 1 & 0\\end{matrix}\\right]$"
      ],
      "text/plain": [
       "Matrix([\n",
       "[1, 1, 2, 1, 0, 0],\n",
       "[1, 1, 1, 2, 0, 0],\n",
       "[0, 1, 1, 1, 1, 0]])"
      ]
     },
     "execution_count": 4,
     "metadata": {},
     "output_type": "execute_result"
    }
   ],
   "source": [
    "A0 = A.row_join(Matrix([0,0,0])) #augmented\n",
    "A0"
   ]
  },
  {
   "cell_type": "code",
   "execution_count": 5,
   "id": "a23fabd3-3ad7-4461-bd72-7349f5bd5563",
   "metadata": {},
   "outputs": [
    {
     "name": "stdout",
     "output_type": "stream",
     "text": [
      "⎛⎡1  0  0  1   -1  0⎤           ⎞\n",
      "⎜⎢                  ⎥           ⎟\n",
      "⎜⎢0  1  0  2   1   0⎥, (0, 1, 2)⎟\n",
      "⎜⎢                  ⎥           ⎟\n",
      "⎝⎣0  0  1  -1  0   0⎦           ⎠\n"
     ]
    }
   ],
   "source": [
    "p(A0.rref())"
   ]
  },
  {
   "cell_type": "code",
   "execution_count": 6,
   "id": "d4351519-0f60-4cb6-9321-ad2743f0f26e",
   "metadata": {},
   "outputs": [
    {
     "data": {
      "text/latex": [
       "$\\displaystyle \\left[\\begin{matrix}-1 & 1\\\\-2 & -1\\\\1 & 0\\\\1 & 0\\\\0 & 1\\end{matrix}\\right]$"
      ],
      "text/plain": [
       "Matrix([\n",
       "[-1,  1],\n",
       "[-2, -1],\n",
       "[ 1,  0],\n",
       "[ 1,  0],\n",
       "[ 0,  1]])"
      ]
     },
     "execution_count": 6,
     "metadata": {},
     "output_type": "execute_result"
    }
   ],
   "source": [
    "N = A.nullspace() #get the basis vectors for the null(A)\n",
    "N = N[0].row_join(N[1]) #form a matrix\n",
    "N"
   ]
  },
  {
   "cell_type": "code",
   "execution_count": 7,
   "id": "57ea1e30-8411-4a7c-bfc6-8250b290f87b",
   "metadata": {},
   "outputs": [
    {
     "data": {
      "text/latex": [
       "$\\displaystyle \\left[\\begin{matrix}-1 & -2 & 1 & 1 & 0\\\\1 & -1 & 0 & 0 & 1\\end{matrix}\\right]$"
      ],
      "text/plain": [
       "Matrix([\n",
       "[-1, -2, 1, 1, 0],\n",
       "[ 1, -1, 0, 0, 1]])"
      ]
     },
     "execution_count": 7,
     "metadata": {},
     "output_type": "execute_result"
    }
   ],
   "source": [
    "Nt = N.transpose()\n",
    "Nt"
   ]
  },
  {
   "cell_type": "code",
   "execution_count": 8,
   "id": "68a280aa-6e18-415d-8bd7-a4b4a811bcd5",
   "metadata": {},
   "outputs": [],
   "source": [
    "z = zeros(5)"
   ]
  },
  {
   "cell_type": "code",
   "execution_count": 9,
   "id": "b512d13b-5663-441f-a50e-f31105bc4a73",
   "metadata": {},
   "outputs": [
    {
     "data": {
      "text/plain": [
       "[Matrix([\n",
       " [1],\n",
       " [0],\n",
       " [0],\n",
       " [0],\n",
       " [0]]),\n",
       " Matrix([\n",
       " [0],\n",
       " [1],\n",
       " [0],\n",
       " [0],\n",
       " [0]]),\n",
       " Matrix([\n",
       " [0],\n",
       " [0],\n",
       " [1],\n",
       " [0],\n",
       " [0]]),\n",
       " Matrix([\n",
       " [0],\n",
       " [0],\n",
       " [0],\n",
       " [1],\n",
       " [0]]),\n",
       " Matrix([\n",
       " [0],\n",
       " [0],\n",
       " [0],\n",
       " [0],\n",
       " [1]])]"
      ]
     },
     "execution_count": 9,
     "metadata": {},
     "output_type": "execute_result"
    }
   ],
   "source": [
    "E = z.nullspace() #nullspace of zero matrix is R^n, which gives standard basis\n",
    "E"
   ]
  },
  {
   "cell_type": "code",
   "execution_count": 12,
   "id": "a6d3d722-5c9b-4d47-bd25-95584dd2cf7d",
   "metadata": {},
   "outputs": [
    {
     "name": "stdout",
     "output_type": "stream",
     "text": [
      "ls sq sol for Matrix([[1], [0], [0], [0], [0]])\n",
      "⎡-1/5⎤\n",
      "⎢    ⎥\n",
      "⎣2/5 ⎦\n",
      "proj for Matrix([[1], [0], [0], [0], [0]]) onto W\n",
      "⎡3/5 ⎤\n",
      "⎢    ⎥\n",
      "⎢ 0  ⎥\n",
      "⎢    ⎥\n",
      "⎢-1/5⎥\n",
      "⎢    ⎥\n",
      "⎢-1/5⎥\n",
      "⎢    ⎥\n",
      "⎣2/5 ⎦\n",
      "ls sq sol for Matrix([[0], [1], [0], [0], [0]])\n",
      "⎡-1/4⎤\n",
      "⎢    ⎥\n",
      "⎣-1/4⎦\n",
      "proj for Matrix([[0], [1], [0], [0], [0]]) onto W\n",
      "⎡ 0  ⎤\n",
      "⎢    ⎥\n",
      "⎢3/4 ⎥\n",
      "⎢    ⎥\n",
      "⎢-1/4⎥\n",
      "⎢    ⎥\n",
      "⎢-1/4⎥\n",
      "⎢    ⎥\n",
      "⎣-1/4⎦\n",
      "ls sq sol for Matrix([[0], [0], [1], [0], [0]])\n",
      "⎡3/20 ⎤\n",
      "⎢     ⎥\n",
      "⎣-1/20⎦\n",
      "proj for Matrix([[0], [0], [1], [0], [0]]) onto W\n",
      "⎡-1/5 ⎤\n",
      "⎢     ⎥\n",
      "⎢-1/4 ⎥\n",
      "⎢     ⎥\n",
      "⎢3/20 ⎥\n",
      "⎢     ⎥\n",
      "⎢3/20 ⎥\n",
      "⎢     ⎥\n",
      "⎣-1/20⎦\n",
      "ls sq sol for Matrix([[0], [0], [0], [1], [0]])\n",
      "⎡3/20 ⎤\n",
      "⎢     ⎥\n",
      "⎣-1/20⎦\n",
      "proj for Matrix([[0], [0], [0], [1], [0]]) onto W\n",
      "⎡-1/5 ⎤\n",
      "⎢     ⎥\n",
      "⎢-1/4 ⎥\n",
      "⎢     ⎥\n",
      "⎢3/20 ⎥\n",
      "⎢     ⎥\n",
      "⎢3/20 ⎥\n",
      "⎢     ⎥\n",
      "⎣-1/20⎦\n",
      "ls sq sol for Matrix([[0], [0], [0], [0], [1]])\n",
      "⎡-1/20⎤\n",
      "⎢     ⎥\n",
      "⎣7/20 ⎦\n",
      "proj for Matrix([[0], [0], [0], [0], [1]]) onto W\n",
      "⎡ 2/5 ⎤\n",
      "⎢     ⎥\n",
      "⎢-1/4 ⎥\n",
      "⎢     ⎥\n",
      "⎢-1/20⎥\n",
      "⎢     ⎥\n",
      "⎢-1/20⎥\n",
      "⎢     ⎥\n",
      "⎣7/20 ⎦\n"
     ]
    }
   ],
   "source": [
    "for b in E:\n",
    "    Aug = (Nt*N).row_join(Nt*b)\n",
    "    B = Aug.rref(pivots = False)\n",
    "    #p(B)\n",
    "    #p(B[:,[0,1]] == eye(2))\n",
    "    if B[:,[0,1]] == eye(2):\n",
    "        #p(u:= B[:,2])\n",
    "        u= B[:,2]\n",
    "        print(f\"ls sq sol for {b}\")\n",
    "        p(u) #least square sol\n",
    "        print(f\"proj for {b} onto W\")\n",
    "        p(N*u) #projection"
   ]
  },
  {
   "cell_type": "code",
   "execution_count": 15,
   "id": "97372973-1214-4904-aca3-c0796b4cb9a5",
   "metadata": {},
   "outputs": [],
   "source": [
    "x1,x2,x3,x4,x5= symbols(('x1','x2','x3','x4','x5'))"
   ]
  },
  {
   "cell_type": "code",
   "execution_count": 16,
   "id": "b216bc47-d0e9-480d-9aa1-1853db2bce12",
   "metadata": {},
   "outputs": [
    {
     "name": "stdout",
     "output_type": "stream",
     "text": [
      "⎡x₁⎤\n",
      "⎢  ⎥\n",
      "⎢x₂⎥\n",
      "⎢  ⎥\n",
      "⎢x₃⎥\n",
      "⎢  ⎥\n",
      "⎢x₄⎥\n",
      "⎢  ⎥\n",
      "⎣x₅⎦\n"
     ]
    }
   ],
   "source": [
    "xa = Matrix([x1,x2,x3,x4,x5])\n",
    "p(xa)"
   ]
  },
  {
   "cell_type": "code",
   "execution_count": 17,
   "id": "d731d63d-7eca-4069-8d87-1970a575eccf",
   "metadata": {},
   "outputs": [
    {
     "name": "stdout",
     "output_type": "stream",
     "text": [
      "⎡        x₁   x₂   3⋅x₃   3⋅x₄   x₅⎤\n",
      "⎢1  0  - ── - ── + ──── + ──── - ──⎥\n",
      "⎢        5    4     20     20    20⎥\n",
      "⎢                                  ⎥\n",
      "⎢       2⋅x₁   x₂   x₃   x₄   7⋅x₅ ⎥\n",
      "⎢0  1   ──── - ── - ── - ── + ──── ⎥\n",
      "⎣        5     4    20   20    20  ⎦\n",
      "⎡1  0⎤\n",
      "⎢    ⎥\n",
      "⎣0  1⎦\n",
      "⎡   3⋅x₁   x₃   x₄   2⋅x₅    ⎤\n",
      "⎢   ──── - ── - ── + ────    ⎥\n",
      "⎢    5     5    5     5      ⎥\n",
      "⎢                            ⎥\n",
      "⎢    3⋅x₂   x₃   x₄   x₅     ⎥\n",
      "⎢    ──── - ── - ── - ──     ⎥\n",
      "⎢     4     4    4    4      ⎥\n",
      "⎢                            ⎥\n",
      "⎢  x₁   x₂   3⋅x₃   3⋅x₄   x₅⎥\n",
      "⎢- ── - ── + ──── + ──── - ──⎥\n",
      "⎢  5    4     20     20    20⎥\n",
      "⎢                            ⎥\n",
      "⎢  x₁   x₂   3⋅x₃   3⋅x₄   x₅⎥\n",
      "⎢- ── - ── + ──── + ──── - ──⎥\n",
      "⎢  5    4     20     20    20⎥\n",
      "⎢                            ⎥\n",
      "⎢ 2⋅x₁   x₂   x₃   x₄   7⋅x₅ ⎥\n",
      "⎢ ──── - ── - ── - ── + ──── ⎥\n",
      "⎣  5     4    20   20    20  ⎦\n"
     ]
    },
    {
     "data": {
      "text/latex": [
       "$\\displaystyle \\left[\\begin{matrix}\\frac{3 x_{1}}{5} - \\frac{x_{3}}{5} - \\frac{x_{4}}{5} + \\frac{2 x_{5}}{5}\\\\\\frac{3 x_{2}}{4} - \\frac{x_{3}}{4} - \\frac{x_{4}}{4} - \\frac{x_{5}}{4}\\\\- \\frac{x_{1}}{5} - \\frac{x_{2}}{4} + \\frac{3 x_{3}}{20} + \\frac{3 x_{4}}{20} - \\frac{x_{5}}{20}\\\\- \\frac{x_{1}}{5} - \\frac{x_{2}}{4} + \\frac{3 x_{3}}{20} + \\frac{3 x_{4}}{20} - \\frac{x_{5}}{20}\\\\\\frac{2 x_{1}}{5} - \\frac{x_{2}}{4} - \\frac{x_{3}}{20} - \\frac{x_{4}}{20} + \\frac{7 x_{5}}{20}\\end{matrix}\\right]$"
      ],
      "text/plain": [
       "Matrix([\n",
       "[           3*x1/5 - x3/5 - x4/5 + 2*x5/5],\n",
       "[             3*x2/4 - x3/4 - x4/4 - x5/4],\n",
       "[-x1/5 - x2/4 + 3*x3/20 + 3*x4/20 - x5/20],\n",
       "[-x1/5 - x2/4 + 3*x3/20 + 3*x4/20 - x5/20],\n",
       "[ 2*x1/5 - x2/4 - x3/20 - x4/20 + 7*x5/20]])"
      ]
     },
     "execution_count": 17,
     "metadata": {},
     "output_type": "execute_result"
    }
   ],
   "source": [
    "\n",
    "Aug = (Nt*N).row_join(Nt*xa)\n",
    "B = Aug.rref(pivots = False)\n",
    "p(B)\n",
    "p(B[:,:-1])\n",
    "if B[:,:-1] == eye(2):\n",
    "    #p(u:= B[:,2])\n",
    "    u= B[:,2]\n",
    "    p(N*u)\n",
    "N*u\n",
    "\n"
   ]
  },
  {
   "cell_type": "markdown",
   "id": "3b238fa1-2eda-496d-8965-c9efde5123a6",
   "metadata": {},
   "source": [
    "# q2\n",
    "| Length (L) (m) | Resistance (R) (Ω)     |\n",
    "|----------------|-------------------------|\n",
    "| 0.01           | 2.75 × 10⁻⁴            |\n",
    "| 0.012          | 3.31 × 10⁻⁴            |\n",
    "| 0.015          | 3.92 × 10⁻⁴            |\n",
    "| 0.02           | 4.95 × 10⁻⁴            |\n"
   ]
  },
  {
   "cell_type": "code",
   "execution_count": 19,
   "id": "9624aeaf-33ba-42bf-9ff6-ac14c0d868eb",
   "metadata": {},
   "outputs": [],
   "source": [
    "R = Matrix([2.75e-4,3.31e-4,3.92e-4,4.95e-4])\n",
    "N = Matrix([[1,0.01],[1,0.012],[1,0.015],[1,0.02]])\n"
   ]
  },
  {
   "cell_type": "code",
   "execution_count": 26,
   "id": "7efa1aa9-67ea-4673-8a67-9f4fc4eb2004",
   "metadata": {},
   "outputs": [
    {
     "name": "stdout",
     "output_type": "stream",
     "text": [
      "⎡1  0  0⎤\n",
      "⎢       ⎥\n",
      "⎢0  1  0⎥\n",
      "⎢       ⎥\n",
      "⎢0  0  1⎥\n",
      "⎢       ⎥\n",
      "⎣0  0  0⎦\n"
     ]
    }
   ],
   "source": [
    "p(N.row_join(R).rref(pivots = False))\n",
    "Nt = N.transpose()"
   ]
  },
  {
   "cell_type": "code",
   "execution_count": 29,
   "id": "2e9973fe-0e12-40a0-b87c-a9bc3d87a46c",
   "metadata": {},
   "outputs": [
    {
     "name": "stdout",
     "output_type": "stream",
     "text": [
      "⎡1  0  6.52114537444935e-5⎤\n",
      "⎢                         ⎥\n",
      "⎣0  1  0.0216167400881057 ⎦\n"
     ]
    }
   ],
   "source": [
    "p(A:= (Nt*N).row_join(Nt*R).rref(pivots = False))"
   ]
  },
  {
   "cell_type": "code",
   "execution_count": 33,
   "id": "82b9ffbd-c821-4bad-b82f-d1e654caae58",
   "metadata": {},
   "outputs": [
    {
     "data": {
      "text/latex": [
       "$\\displaystyle 4.32334801762114 \\cdot 10^{-5}$"
      ],
      "text/plain": [
       "4.32334801762114e-5"
      ]
     },
     "execution_count": 33,
     "metadata": {},
     "output_type": "execute_result"
    }
   ],
   "source": [
    "a0 = A[0,2]\n",
    "a1 = A[1,2]\n",
    "rho = 0.002 * a1\n",
    "rho"
   ]
  },
  {
   "cell_type": "markdown",
   "id": "940f32a4-d6e1-4271-98cb-671db7dc8730",
   "metadata": {},
   "source": [
    "# q3\n",
    "# Data Table\n",
    "\n",
    "\n",
    "\n",
    "| X   | Y        |\n",
    "|-----|----------|\n",
    "| 4   | 0.8651   |\n",
    "| 4.5 | 0.4828   |\n",
    "| 5   | 2.590    |\n",
    "| 5.5 | -4.389   |\n",
    "| 6   | -7.858   |\n",
    "| 6.5 | 3.103    |\n",
    "| 7   | 7.456    |\n",
    "| 8   | 0.0965   |\n",
    "| 8.5 | 4.326    |\n",
    "\n",
    "Weshallnowfindaquarticpolynomial\n",
    " p(x)=a0+a1x+a2x2+a3x3+a4x4\n",
    " that isaleastsquareapproximatingpolynomial forthefollowingdatapoints"
   ]
  },
  {
   "cell_type": "code",
   "execution_count": 7,
   "id": "ea85eaff-b2fd-470d-9ee3-b41223a73e24",
   "metadata": {},
   "outputs": [
    {
     "data": {
      "text/latex": [
       "$\\displaystyle \\left[\\begin{matrix}0.8651\\\\0.4828\\\\2.59\\\\-4.389\\\\-7.858\\\\3.103\\\\7.456\\\\0.0965\\\\4.326\\end{matrix}\\right]$"
      ],
      "text/plain": [
       "Matrix([\n",
       "[0.8651],\n",
       "[0.4828],\n",
       "[  2.59],\n",
       "[-4.389],\n",
       "[-7.858],\n",
       "[ 3.103],\n",
       "[ 7.456],\n",
       "[0.0965],\n",
       "[ 4.326]])"
      ]
     },
     "execution_count": 7,
     "metadata": {},
     "output_type": "execute_result"
    }
   ],
   "source": [
    "x = Matrix([4,4.5,5,5.5,6,6.5,7,8,8.5])\n",
    "y = Matrix([0.8651,0.4828,2.590,-4.389,-7.858,3.103,7.456,0.0965,4.326])\n",
    "\n",
    "x\n",
    "y"
   ]
  },
  {
   "cell_type": "code",
   "execution_count": 14,
   "id": "991802d9-0b0b-4902-840f-bff5af90dbb3",
   "metadata": {},
   "outputs": [],
   "source": [
    "N = Matrix([[Matrix([xi ** k for k in range(5)]) for xi in x]]).transpose()\n",
    "Nt = N.transpose()"
   ]
  },
  {
   "cell_type": "code",
   "execution_count": 19,
   "id": "e0b69529-85b4-43bb-8567-263f3e7254b1",
   "metadata": {},
   "outputs": [],
   "source": [
    "a = ((Nt*N)**-1)*Nt*y"
   ]
  },
  {
   "cell_type": "code",
   "execution_count": 20,
   "id": "0e731c08-36c1-4b31-b7b7-3da29004725b",
   "metadata": {},
   "outputs": [
    {
     "data": {
      "text/latex": [
       "$\\displaystyle \\left[\\begin{matrix}-204.071639000242\\\\169.209948959191\\\\-49.7012925121264\\\\6.15275236844249\\\\-0.271951517211081\\end{matrix}\\right]$"
      ],
      "text/plain": [
       "Matrix([\n",
       "[ -204.071639000242],\n",
       "[  169.209948959191],\n",
       "[ -49.7012925121264],\n",
       "[  6.15275236844249],\n",
       "[-0.271951517211081]])"
      ]
     },
     "execution_count": 20,
     "metadata": {},
     "output_type": "execute_result"
    }
   ],
   "source": [
    "a"
   ]
  },
  {
   "cell_type": "markdown",
   "id": "88ccab23-5f7f-4b46-8cce-eb3647db2665",
   "metadata": {},
   "source": [
    "and the vector a is the coefficient vector for the least square polynomial"
   ]
  },
  {
   "cell_type": "markdown",
   "id": "acece23d-a237-4b0a-8ab3-cebde0601f93",
   "metadata": {},
   "source": [
    "#### Q4"
   ]
  },
  {
   "cell_type": "code",
   "execution_count": 30,
   "id": "0210dce4-0397-4edb-8971-9b495fbcb18d",
   "metadata": {},
   "outputs": [
    {
     "data": {
      "text/latex": [
       "$\\displaystyle \\left[\\begin{matrix}x - 1 & 3 & -3\\\\-3 & x + 5 & -3\\\\-6 & 6 & x - 4\\end{matrix}\\right]$"
      ],
      "text/plain": [
       "Matrix([\n",
       "[x - 1,     3,    -3],\n",
       "[   -3, x + 5,    -3],\n",
       "[   -6,     6, x - 4]])"
      ]
     },
     "execution_count": 30,
     "metadata": {},
     "output_type": "execute_result"
    }
   ],
   "source": [
    "A = Matrix(3,3,[1,-3,3,3,-5,3,6,-6,4])\n",
    "I = eye(3)\n",
    "x = symbols('x')\n",
    "x*I-A"
   ]
  },
  {
   "cell_type": "code",
   "execution_count": 32,
   "id": "242ef62e-9983-4b00-a974-ac50ce228094",
   "metadata": {},
   "outputs": [
    {
     "data": {
      "text/latex": [
       "$\\displaystyle \\left(x - 4\\right) \\left(x + 2\\right)^{2}$"
      ],
      "text/plain": [
       "(x - 4)*(x + 2)**2"
      ]
     },
     "execution_count": 32,
     "metadata": {},
     "output_type": "execute_result"
    }
   ],
   "source": [
    "(x*I-A).det().factor()"
   ]
  },
  {
   "cell_type": "markdown",
   "id": "d5094bc2-f71b-45cc-b9ad-b36477a87cf4",
   "metadata": {},
   "source": [
    "Alternatively, use the eigenvects function to directly get the eigenvalue, algebraic multiplicities and eigenbases"
   ]
  },
  {
   "cell_type": "code",
   "execution_count": 24,
   "id": "88d7be3c-eea0-41c0-9b44-70542a5a0957",
   "metadata": {},
   "outputs": [
    {
     "name": "stdout",
     "output_type": "stream",
     "text": [
      "⎡⎛       ⎡⎡1⎤  ⎡-1⎤⎤⎞  ⎛      ⎡⎡1/2⎤⎤⎞⎤\n",
      "⎢⎜       ⎢⎢ ⎥  ⎢  ⎥⎥⎟  ⎜      ⎢⎢   ⎥⎥⎟⎥\n",
      "⎢⎜-2, 2, ⎢⎢1⎥, ⎢0 ⎥⎥⎟, ⎜4, 1, ⎢⎢1/2⎥⎥⎟⎥\n",
      "⎢⎜       ⎢⎢ ⎥  ⎢  ⎥⎥⎟  ⎜      ⎢⎢   ⎥⎥⎟⎥\n",
      "⎣⎝       ⎣⎣0⎦  ⎣1 ⎦⎦⎠  ⎝      ⎣⎣ 1 ⎦⎦⎠⎦\n"
     ]
    }
   ],
   "source": [
    "p(A.eigenvects())"
   ]
  },
  {
   "cell_type": "code",
   "execution_count": 33,
   "id": "5d1e38a6-c4b9-4a0e-bbf5-dcd4d0d24da4",
   "metadata": {},
   "outputs": [],
   "source": [
    "A = Matrix(4,4,[9,8,6,3,0,-1,3,-4,0,0,3,0,0,0,0,2])"
   ]
  },
  {
   "cell_type": "code",
   "execution_count": 34,
   "id": "f4dbf769-1176-47d0-901c-354b0c793aed",
   "metadata": {},
   "outputs": [
    {
     "data": {
      "text/latex": [
       "$\\displaystyle \\left[\\begin{matrix}9 & 8 & 6 & 3\\\\0 & -1 & 3 & -4\\\\0 & 0 & 3 & 0\\\\0 & 0 & 0 & 2\\end{matrix}\\right]$"
      ],
      "text/plain": [
       "Matrix([\n",
       "[9,  8, 6,  3],\n",
       "[0, -1, 3, -4],\n",
       "[0,  0, 3,  0],\n",
       "[0,  0, 0,  2]])"
      ]
     },
     "execution_count": 34,
     "metadata": {},
     "output_type": "execute_result"
    }
   ],
   "source": [
    "A"
   ]
  },
  {
   "cell_type": "code",
   "execution_count": 35,
   "id": "c7236231-1005-4ce1-b2c6-f2c09d510767",
   "metadata": {},
   "outputs": [
    {
     "name": "stdout",
     "output_type": "stream",
     "text": [
      "⎡                   ⎛      ⎡⎡ 23 ⎤⎤⎞                                ⎤\n",
      "⎢⎛       ⎡⎡-4/5⎤⎤⎞  ⎜      ⎢⎢ ── ⎥⎥⎟  ⎛      ⎡⎡-2 ⎤⎤⎞  ⎛      ⎡⎡1⎤⎤⎞⎥\n",
      "⎢⎜       ⎢⎢    ⎥⎥⎟  ⎜      ⎢⎢ 21 ⎥⎥⎟  ⎜      ⎢⎢   ⎥⎥⎟  ⎜      ⎢⎢ ⎥⎥⎟⎥\n",
      "⎢⎜       ⎢⎢ 1  ⎥⎥⎟  ⎜      ⎢⎢    ⎥⎥⎟  ⎜      ⎢⎢3/4⎥⎥⎟  ⎜      ⎢⎢0⎥⎥⎟⎥\n",
      "⎢⎜-1, 1, ⎢⎢    ⎥⎥⎟, ⎜2, 1, ⎢⎢-4/3⎥⎥⎟, ⎜3, 1, ⎢⎢   ⎥⎥⎟, ⎜9, 1, ⎢⎢ ⎥⎥⎟⎥\n",
      "⎢⎜       ⎢⎢ 0  ⎥⎥⎟  ⎜      ⎢⎢    ⎥⎥⎟  ⎜      ⎢⎢ 1 ⎥⎥⎟  ⎜      ⎢⎢0⎥⎥⎟⎥\n",
      "⎢⎜       ⎢⎢    ⎥⎥⎟  ⎜      ⎢⎢ 0  ⎥⎥⎟  ⎜      ⎢⎢   ⎥⎥⎟  ⎜      ⎢⎢ ⎥⎥⎟⎥\n",
      "⎢⎝       ⎣⎣ 0  ⎦⎦⎠  ⎜      ⎢⎢    ⎥⎥⎟  ⎝      ⎣⎣ 0 ⎦⎦⎠  ⎝      ⎣⎣0⎦⎦⎠⎥\n",
      "⎣                   ⎝      ⎣⎣ 1  ⎦⎦⎠                                ⎦\n"
     ]
    }
   ],
   "source": [
    "p(A.eigenvects())"
   ]
  },
  {
   "cell_type": "markdown",
   "id": "b7f79209-6208-491e-a149-99659ce1d853",
   "metadata": {},
   "source": [
    "# supplementary problem q6\n",
    "\n"
   ]
  },
  {
   "cell_type": "code",
   "execution_count": 49,
   "id": "c4504139-a33d-4482-b255-3b8f372e7b2d",
   "metadata": {},
   "outputs": [],
   "source": [
    "u1 = Matrix([1,1,1,0])\n",
    "u2 = Matrix([1,1,1,1])\n",
    "u3 = Matrix([0,0,1,1])\n",
    "\n",
    "A = u1.row_join(u2).row_join(u3)\n",
    "\n",
    "S = [u1,u2,u3]"
   ]
  },
  {
   "cell_type": "code",
   "execution_count": 53,
   "id": "cf736068-d1f0-47b1-bebf-d7c03e8e5a3a",
   "metadata": {},
   "outputs": [],
   "source": [
    "W = Matrix.orthogonalize(*S, normalize  = True)"
   ]
  },
  {
   "cell_type": "markdown",
   "id": "c44e610d-b3e4-4751-8b7b-b73bb2eeb5da",
   "metadata": {},
   "source": [
    "# "
   ]
  },
  {
   "cell_type": "code",
   "execution_count": 65,
   "id": "57dcfa0b-e427-409d-a453-8eda5fd5d688",
   "metadata": {},
   "outputs": [
    {
     "data": {
      "text/latex": [
       "$\\displaystyle \\left[\\begin{matrix}\\frac{\\sqrt{3}}{3} & 0 & - \\frac{\\sqrt{6}}{6}\\\\\\frac{\\sqrt{3}}{3} & 0 & - \\frac{\\sqrt{6}}{6}\\\\\\frac{\\sqrt{3}}{3} & 0 & \\frac{\\sqrt{6}}{3}\\\\0 & 1 & 0\\end{matrix}\\right]$"
      ],
      "text/plain": [
       "Matrix([\n",
       "[sqrt(3)/3, 0, -sqrt(6)/6],\n",
       "[sqrt(3)/3, 0, -sqrt(6)/6],\n",
       "[sqrt(3)/3, 0,  sqrt(6)/3],\n",
       "[        0, 1,          0]])"
      ]
     },
     "execution_count": 65,
     "metadata": {},
     "output_type": "execute_result"
    }
   ],
   "source": [
    "Q = W[0].row_join(W[1]).row_join(W[2]);Q"
   ]
  },
  {
   "cell_type": "code",
   "execution_count": 64,
   "id": "1c97df9b-96ac-44bd-a6e3-91e9ecf82d67",
   "metadata": {},
   "outputs": [
    {
     "data": {
      "text/latex": [
       "$\\displaystyle \\left[\\begin{matrix}\\frac{\\sqrt{3}}{3} & 0 & - \\frac{\\sqrt{6}}{6} & 1 & 1 & 0\\\\\\frac{\\sqrt{3}}{3} & 0 & - \\frac{\\sqrt{6}}{6} & 1 & 1 & 0\\\\\\frac{\\sqrt{3}}{3} & 0 & \\frac{\\sqrt{6}}{3} & 1 & 1 & 1\\\\0 & 1 & 0 & 0 & 1 & 1\\end{matrix}\\right]$"
      ],
      "text/plain": [
       "Matrix([\n",
       "[sqrt(3)/3, 0, -sqrt(6)/6, 1, 1, 0],\n",
       "[sqrt(3)/3, 0, -sqrt(6)/6, 1, 1, 0],\n",
       "[sqrt(3)/3, 0,  sqrt(6)/3, 1, 1, 1],\n",
       "[        0, 1,          0, 0, 1, 1]])"
      ]
     },
     "execution_count": 64,
     "metadata": {},
     "output_type": "execute_result"
    }
   ],
   "source": [
    "Q.row_join(A)"
   ]
  },
  {
   "cell_type": "code",
   "execution_count": 75,
   "id": "0b42b996-ba3c-4872-b5e4-1be5d7191fa7",
   "metadata": {},
   "outputs": [
    {
     "data": {
      "text/latex": [
       "$\\displaystyle \\left[\\begin{matrix}1 & 0 & 0 & \\sqrt{3} & \\sqrt{3} & \\frac{\\sqrt{3}}{3}\\\\0 & 1 & 0 & 0 & 1 & 1\\\\0 & 0 & 1 & 0 & 0 & \\frac{\\sqrt{6}}{3}\\\\0 & 0 & 0 & 0 & 0 & 0\\end{matrix}\\right]$"
      ],
      "text/plain": [
       "Matrix([\n",
       "[1, 0, 0, sqrt(3), sqrt(3), sqrt(3)/3],\n",
       "[0, 1, 0,       0,       1,         1],\n",
       "[0, 0, 1,       0,       0, sqrt(6)/3],\n",
       "[0, 0, 0,       0,       0,         0]])"
      ]
     },
     "execution_count": 75,
     "metadata": {},
     "output_type": "execute_result"
    }
   ],
   "source": [
    "Aug = B.row_join(A).rref(pivots = False); Aug"
   ]
  },
  {
   "cell_type": "code",
   "execution_count": 81,
   "id": "80fe1d19-ece7-4bc8-8c18-0cb1e2452689",
   "metadata": {},
   "outputs": [
    {
     "data": {
      "text/plain": [
       "True"
      ]
     },
     "execution_count": 81,
     "metadata": {},
     "output_type": "execute_result"
    }
   ],
   "source": [
    "R = Aug [0:3,3:];R\n",
    "\n",
    "A == Q*R"
   ]
  },
  {
   "cell_type": "code",
   "execution_count": null,
   "id": "7d9db0dc-9126-491f-a313-405501e9cdc8",
   "metadata": {},
   "outputs": [],
   "source": []
  }
 ],
 "metadata": {
  "kernelspec": {
   "display_name": "Python 3 (ipykernel)",
   "language": "python",
   "name": "python3"
  },
  "language_info": {
   "codemirror_mode": {
    "name": "ipython",
    "version": 3
   },
   "file_extension": ".py",
   "mimetype": "text/x-python",
   "name": "python",
   "nbconvert_exporter": "python",
   "pygments_lexer": "ipython3",
   "version": "3.12.9"
  }
 },
 "nbformat": 4,
 "nbformat_minor": 5
}
